{
 "cells": [
  {
   "cell_type": "code",
   "execution_count": null,
   "metadata": {},
   "outputs": [],
   "source": [
    "import matplotlib.pyplot as plt\n",
    "import numpy as np"
   ]
  },
  {
   "cell_type": "code",
   "execution_count": null,
   "metadata": {},
   "outputs": [],
   "source": [
    "path=\"../output/facebook_opt-125m/enum_aTrue_s1_abs_mean_0.5.json\"\n",
    "\n",
    "param_ratios=[]\n",
    "wiki_ppls=[]\n",
    "ptb_ppls=[]\n",
    "with open(path, 'r') as f:\n",
    "    for l in f.readlines():\n",
    "        if l[0] == '{':\n",
    "            r=eval(l)\n",
    "            wiki_ppls.append(r['wikitext2'])\n",
    "            ptb_ppls.append(r['ptb'])\n",
    "        else:\n",
    "            ratio=l.strip().split(\"=\")[-1]\n",
    "            param_ratios.append(float(ratio))"
   ]
  },
  {
   "cell_type": "code",
   "execution_count": null,
   "metadata": {},
   "outputs": [],
   "source": [
    "# plot ppl lines in one figure\n",
    "fig, ax = plt.subplots()\n",
    "ax.plot(param_ratios, wiki_ppls, label='WikiText2')\n",
    "ax.plot(param_ratios, ptb_ppls, label='PTB')\n",
    "ax.set_xlabel('Parameter Ratio')\n",
    "ax.set_ylabel('Perplexity')\n",
    "# ax.set_xscale('log')\n",
    "# ax.set_xticks(param_ratios)\n",
    "# ax.set_xticklabels(param_ratios)\n",
    "ax.legend()\n",
    "plt.show()\n"
   ]
  },
  {
   "cell_type": "code",
   "execution_count": null,
   "metadata": {},
   "outputs": [],
   "source": []
  }
 ],
 "metadata": {
  "kernelspec": {
   "display_name": "binary_llm",
   "language": "python",
   "name": "python3"
  },
  "language_info": {
   "codemirror_mode": {
    "name": "ipython",
    "version": 3
   },
   "file_extension": ".py",
   "mimetype": "text/x-python",
   "name": "python",
   "nbconvert_exporter": "python",
   "pygments_lexer": "ipython3",
   "version": "3.10.12"
  }
 },
 "nbformat": 4,
 "nbformat_minor": 2
}
