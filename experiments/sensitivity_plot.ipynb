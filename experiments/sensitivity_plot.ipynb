{
 "cells": [
  {
   "cell_type": "code",
   "execution_count": null,
   "metadata": {},
   "outputs": [],
   "source": [
    "import matplotlib.pyplot as plt\n",
    "import torch"
   ]
  },
  {
   "cell_type": "code",
   "execution_count": null,
   "metadata": {},
   "outputs": [],
   "source": [
    "sensitivity=torch.load(\"../cache/meta-llama_Llama-2-7b-hf_sensitivity.pt\")"
   ]
  },
  {
   "cell_type": "code",
   "execution_count": null,
   "metadata": {},
   "outputs": [],
   "source": [
    "sensitivity.keys()"
   ]
  },
  {
   "cell_type": "code",
   "execution_count": null,
   "metadata": {},
   "outputs": [],
   "source": [
    "fig=plt.figure(figsize=(5.2,8.5))\n",
    "for layeri, l in enumerate([0,10,20,30]):\n",
    "    # layer_pre=\"model.decoder.layers.\"+str(l)\n",
    "    layer_pre=\"model.layers.\"+str(l)\n",
    "    ax=fig.add_subplot(4,1,layeri+1)\n",
    "    ax.set_xlabel(\"param ratio\")\n",
    "    # y tick format .1f\n",
    "    ax.yaxis.set_major_formatter(plt.FormatStrFormatter('%.1f'))\n",
    "    # ax.set_ylabel(\"perplexity\")\n",
    "    ax.set_ylabel(\"perplexity\")\n",
    "    ax.set_title(layer_pre)\n",
    "    # tight layout to avoid overlap\n",
    "    plt.tight_layout()\n",
    "\n",
    "    for name, ss in sensitivity.items():\n",
    "        if layer_pre in name:\n",
    "            data=[]\n",
    "            for ratio,ppl in ss.items():\n",
    "                data.append((ratio,ppl))\n",
    "\n",
    "            ax.plot([x[0] for x in data],[x[1] for x in data],label=name.split(\".\")[-1])\n",
    "    # lengend two columns\n",
    "    ax.legend(ncol=4,loc='upper center',fontsize=9)\n",
    "plt.show()\n",
    "# save pdf\n",
    "import os\n",
    "if not os.path.exists(\"../plots\"):\n",
    "    os.makedirs(\"../plots\")\n",
    "fig.savefig(\"../plots/sensitivity.pdf\",bbox_inches='tight')\n"
   ]
  },
  {
   "cell_type": "code",
   "execution_count": null,
   "metadata": {},
   "outputs": [],
   "source": []
  }
 ],
 "metadata": {
  "kernelspec": {
   "display_name": "binary_llm",
   "language": "python",
   "name": "python3"
  },
  "language_info": {
   "codemirror_mode": {
    "name": "ipython",
    "version": 3
   },
   "file_extension": ".py",
   "mimetype": "text/x-python",
   "name": "python",
   "nbconvert_exporter": "python",
   "pygments_lexer": "ipython3",
   "version": "3.10.12"
  }
 },
 "nbformat": 4,
 "nbformat_minor": 2
}
