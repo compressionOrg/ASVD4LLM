{
 "cells": [
  {
   "cell_type": "code",
   "execution_count": 1,
   "metadata": {},
   "outputs": [],
   "source": [
    "import os\n",
    "import torch.nn as nn\n",
    "import torch\n",
    "import time\n",
    "import numpy as np\n",
    "import matplotlib.pyplot as plt\n",
    "\n",
    "\n",
    "def gen_linear(inc, oc):\n",
    "    return nn.Linear(inc, oc)\n",
    "\n",
    "\n",
    "def gen_svd_linear(inc, oc, k):\n",
    "    ALinear = nn.Linear(inc, k)\n",
    "    BLinear = nn.Linear(k, oc)\n",
    "    return nn.Sequential(ALinear, BLinear)\n",
    "\n",
    "\n"
   ]
  },
  {
   "cell_type": "code",
   "execution_count": 11,
   "metadata": {},
   "outputs": [
    {
     "name": "stdout",
     "output_type": "stream",
     "text": [
      "param_ratio=0.75 raw_time=0.005185337066650391 svd_time=0.004072341918945312\n",
      "param_ratio=0.8 raw_time=0.005265669822692871 svd_time=0.004499285221099853\n",
      "param_ratio=0.85 raw_time=0.005416505336761475 svd_time=0.004612176418304443\n",
      "param_ratio=0.9 raw_time=0.005344386100769043 svd_time=0.004829003810882569\n",
      "param_ratio=0.95 raw_time=0.005350379943847656 svd_time=0.005088210105895996\n",
      "param_ratio=0.75 raw_time=0.014723942279815674 svd_time=0.011187601089477538\n",
      "param_ratio=0.8 raw_time=0.01471515655517578 svd_time=0.01181518316268921\n",
      "param_ratio=0.85 raw_time=0.014762394428253174 svd_time=0.01264045000076294\n",
      "param_ratio=0.9 raw_time=0.015127789974212647 svd_time=0.01362471580505371\n",
      "param_ratio=0.95 raw_time=0.014756803512573241 svd_time=0.014102323055267334\n",
      "param_ratio=0.75 raw_time=0.0016720247268676757 svd_time=0.0012467050552368165\n",
      "param_ratio=0.8 raw_time=0.0015723776817321777 svd_time=0.0013126659393310547\n",
      "param_ratio=0.85 raw_time=0.0017038536071777343 svd_time=0.00142578125\n",
      "param_ratio=0.9 raw_time=0.001625826358795166 svd_time=0.0014991021156311034\n",
      "param_ratio=0.95 raw_time=0.0016507053375244142 svd_time=0.0016516017913818359\n",
      "param_ratio=0.75 raw_time=0.00424992322921753 svd_time=0.0031376242637634276\n",
      "param_ratio=0.8 raw_time=0.00412283182144165 svd_time=0.003382091522216797\n",
      "param_ratio=0.85 raw_time=0.00421170711517334 svd_time=0.003657643795013428\n",
      "param_ratio=0.9 raw_time=0.004392626285552978 svd_time=0.003985197544097901\n",
      "param_ratio=0.95 raw_time=0.004150381088256836 svd_time=0.003973593711853027\n",
      "param_ratio=0.75 raw_time=0.0007780027389526367 svd_time=0.0005418038368225097\n",
      "param_ratio=0.8 raw_time=0.0008209586143493652 svd_time=0.000629723072052002\n",
      "param_ratio=0.85 raw_time=0.0008023715019226074 svd_time=0.0006794047355651856\n",
      "param_ratio=0.9 raw_time=0.0007941937446594239 svd_time=0.0006964969635009766\n",
      "param_ratio=0.95 raw_time=0.0007581210136413574 svd_time=0.0007422327995300293\n",
      "param_ratio=0.75 raw_time=0.0023362159729003905 svd_time=0.0017168331146240235\n",
      "param_ratio=0.8 raw_time=0.002071061134338379 svd_time=0.0016122865676879883\n",
      "param_ratio=0.85 raw_time=0.002366769313812256 svd_time=0.0015910863876342773\n",
      "param_ratio=0.9 raw_time=0.0018887019157409668 svd_time=0.001755070686340332\n",
      "param_ratio=0.95 raw_time=0.0018903636932373047 svd_time=0.0018096542358398437\n"
     ]
    },
    {
     "data": {
      "text/plain": [
       "<Figure size 800x600 with 0 Axes>"
      ]
     },
     "metadata": {},
     "output_type": "display_data"
    },
    {
     "data": {
      "text/plain": [
       "<Figure size 800x600 with 0 Axes>"
      ]
     },
     "metadata": {},
     "output_type": "display_data"
    },
    {
     "data": {
      "text/plain": [
       "<Figure size 800x600 with 0 Axes>"
      ]
     },
     "metadata": {},
     "output_type": "display_data"
    }
   ],
   "source": [
    "results_mha={}\n",
    "results_mlp={}\n",
    "for num_threads in [1,4,16]:\n",
    "    torch.set_num_threads(num_threads)\n",
    "\n",
    "    fig = plt.figure(figsize=(8, 6))\n",
    "    inc = 4096\n",
    "    oc = 4096\n",
    "    N = 100\n",
    "    batchsize = 1\n",
    "    raw_linear = gen_linear(inc, oc)\n",
    "    latency_ratios = []\n",
    "    # ratios=np.linspace(0.75, 1, 25)\n",
    "    ratios=[0.75, 0.8, 0.85, 0.9, 0.95]\n",
    "    for param_ratio in ratios:\n",
    "        k = int(inc * oc * param_ratio / (inc + oc))\n",
    "        svd_linear = gen_svd_linear(inc, oc, k)\n",
    "        # test speed\n",
    "        x = torch.randn(batchsize, inc)\n",
    "\n",
    "        # warm up\n",
    "        for i in range(10):\n",
    "            raw_linear(x)\n",
    "        # test\n",
    "        st = time.time()\n",
    "        for i in range(N):\n",
    "            raw_linear(x)\n",
    "        et = time.time()\n",
    "        raw_time = (et - st) / N\n",
    "        st = time.time()\n",
    "        for i in range(N):\n",
    "            svd_linear(x)\n",
    "        et = time.time()\n",
    "        svd_time = (et - st) / N\n",
    "        print(f\"param_ratio={param_ratio} raw_time={raw_time} svd_time={svd_time}\")\n",
    "        latency_ratio = svd_time/raw_time\n",
    "        latency_ratios.append(latency_ratio)\n",
    "\n",
    "    # plt.plot(ratios, latency_ratios, label=\"MHA\")\n",
    "    results_mha[num_threads]=latency_ratios\n",
    "\n",
    "    inc = 4096\n",
    "    oc = 11008\n",
    "    raw_linear = gen_linear(inc, oc)\n",
    "    latency_ratios = []\n",
    "    for param_ratio in ratios:\n",
    "        k = int(inc * oc * param_ratio / (inc + oc))\n",
    "        svd_linear = gen_svd_linear(inc, oc, k)\n",
    "        # test speed\n",
    "        x = torch.randn(batchsize, inc)\n",
    "\n",
    "        # warm up\n",
    "        for i in range(100):\n",
    "            raw_linear(x)\n",
    "        # test\n",
    "        st = time.time()\n",
    "        for i in range(N):\n",
    "            raw_linear(x)\n",
    "        et = time.time()\n",
    "        raw_time = (et - st) / N\n",
    "        st = time.time()\n",
    "        for i in range(N):\n",
    "            svd_linear(x)\n",
    "        et = time.time()\n",
    "        svd_time = (et - st) / N\n",
    "        print(f\"param_ratio={param_ratio} raw_time={raw_time} svd_time={svd_time}\")\n",
    "        latency_ratio = svd_time/raw_time\n",
    "        latency_ratios.append(latency_ratio)\n",
    "    results_mlp[num_threads]=latency_ratios\n",
    "    # plt.plot(ratios, latency_ratios, label=\"MLP\")\n",
    "    # plt.ylabel(\"latency ratio\")\n",
    "    # plt.xlabel(\"param ratio\")\n",
    "    # plt.legend()\n",
    "\n",
    "\n"
   ]
  },
  {
   "cell_type": "code",
   "execution_count": 12,
   "metadata": {},
   "outputs": [
    {
     "name": "stdout",
     "output_type": "stream",
     "text": [
      "0.75,0.8,0.85,0.9,0.95\n",
      "1,0.79,0.85,0.85,0.90,0.95,\n",
      "4,0.75,0.83,0.84,0.92,1.00,\n",
      "16,0.70,0.77,0.85,0.88,0.98,\n",
      "1,0.76,0.80,0.86,0.90,0.96,\n",
      "4,0.74,0.82,0.87,0.91,0.96,\n",
      "16,0.73,0.78,0.67,0.93,0.96,\n"
     ]
    }
   ],
   "source": [
    "\n",
    "print(\",\".join([str(r) for r in ratios]))\n",
    "# print(\"MHA\")\n",
    "for num_threads in [1,4,16]:\n",
    "    print(f\"{num_threads},\", end=\"\")\n",
    "    for r in results_mha[num_threads]:\n",
    "        print(f\"{r:.2f},\", end=\"\")\n",
    "    print(\"\")\n",
    "# print(\"MLP\")\n",
    "for num_threads in [1,4,16]:\n",
    "    print(f\"{num_threads},\", end=\"\")\n",
    "    for r in results_mlp[num_threads]:\n",
    "        print(f\"{r:.2f},\", end=\"\")\n",
    "    print(\"\")"
   ]
  },
  {
   "cell_type": "code",
   "execution_count": 13,
   "metadata": {},
   "outputs": [],
   "source": [
    "# print with chart format\n",
    "import pandas as pd\n",
    "df = pd.DataFrame(results_mha)\n",
    "df.index = ratios\n",
    "df.to_csv(\"mha.csv\")\n",
    "df = pd.DataFrame(results_mlp)\n",
    "df.index = ratios\n",
    "df.to_csv(\"mlp.csv\")"
   ]
  }
 ],
 "metadata": {
  "kernelspec": {
   "display_name": "binary_llm",
   "language": "python",
   "name": "python3"
  },
  "language_info": {
   "codemirror_mode": {
    "name": "ipython",
    "version": 3
   },
   "file_extension": ".py",
   "mimetype": "text/x-python",
   "name": "python",
   "nbconvert_exporter": "python",
   "pygments_lexer": "ipython3",
   "version": "3.10.12"
  }
 },
 "nbformat": 4,
 "nbformat_minor": 2
}
