{
 "cells": [
  {
   "cell_type": "code",
   "execution_count": null,
   "metadata": {},
   "outputs": [],
   "source": [
    "import matplotlib.pyplot as plt\n",
    "import numpy as np\n",
    "import torch"
   ]
  },
  {
   "cell_type": "code",
   "execution_count": null,
   "metadata": {},
   "outputs": [],
   "source": [
    "# llama=\"../output/final/layer_type_ratio_huggyllama_llama-7b.pt\"\n",
    "llama2=\"../output/final/analysis_meta-llama_Llama-2-7b-hf.pt\"\n",
    "\n",
    "fig=plt.figure(figsize=(5,4))\n",
    "ax=fig.add_subplot(211)\n",
    "ax.set_xlabel(\"params ratio\")\n",
    "ax.set_ylabel(\"per-type ratio\")\n",
    "# ax.set_title(\"Llama-7b\")\n",
    "\n",
    "all_block_ratio,all_layer_type_ratio=torch.load(llama2)\n",
    "target_ratios = list(all_layer_type_ratio.keys())\n",
    "layer_types = list(all_layer_type_ratio[target_ratios[0]].keys())\n",
    "for layer_type in layer_types:\n",
    "    if layer_type=='lm_head':\n",
    "        continue\n",
    "    ratios = [np.mean(all_layer_type_ratio[target_ratio][layer_type]) for target_ratio in target_ratios]\n",
    "\n",
    "    # Line plot\n",
    "    ax.plot(target_ratios, ratios, marker='o', label=layer_type)\n",
    "\n",
    "# Adding legend\n",
    "ax.legend(ncol=2)\n",
    "\n",
    "ax=fig.add_subplot(212)\n",
    "ax.set_xlabel(\"block index\")\n",
    "ax.set_ylabel(\"per-block ratio\")\n",
    "# ax.set_title(\"Llama-2-7b\")\n",
    "\n",
    "cnt=0\n",
    "for target,block_ratio in all_block_ratio.items():\n",
    "    cnt+=1\n",
    "    if cnt%2==0:\n",
    "        continue\n",
    "    Y=[]\n",
    "    X=[]\n",
    "    total_params=0\n",
    "    for layer_i, ratio_params in block_ratio.items():\n",
    "        if layer_i=='lm_head':\n",
    "            continue\n",
    "        X.append(layer_i)\n",
    "        total_params=sum([params for ratio,params in ratio_params])\n",
    "        compressed_params=sum([ratio*params for ratio,params in ratio_params])\n",
    "        ratio=compressed_params/total_params\n",
    "        # print(layer_i,ratio)\n",
    "        Y.append(ratio)\n",
    "    ax.plot(X,Y,label=f\"{target:.2f}\")\n",
    "ax.legend(ncol=2)\n",
    "ax.ticklabel_format(axis='y',style='plain')\n",
    "    \n",
    "# Adding legend\n",
    "plt.tight_layout()\n",
    "\n",
    "plt.savefig(\"../output/final/analysis_meta-llama_Llama-2-7b-hf.pdf\",bbox_inches='tight')"
   ]
  }
 ],
 "metadata": {
  "kernelspec": {
   "display_name": "binary_llm",
   "language": "python",
   "name": "python3"
  },
  "language_info": {
   "name": "python",
   "version": "3.10.12"
  }
 },
 "nbformat": 4,
 "nbformat_minor": 2
}
